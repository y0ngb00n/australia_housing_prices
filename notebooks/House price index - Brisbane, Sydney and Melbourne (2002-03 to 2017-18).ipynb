{
 "cells": [
  {
   "attachments": {},
   "cell_type": "markdown",
   "metadata": {},
   "source": [
    "# House Price Index: Brisbane, Sydney and Melbourne, 2002-03 to 2017-18\n",
    "- Data Source \n",
    "  - [House price](https://data.qld.gov.au/dataset/house-price-index-bris-syd-melb/resource/4563663c-fcc1-44d2-b9f0-27b6d922c914)\n",
    "  - [Home loan interest rate](http://www.loansense.com.au/historical-rates.html)\n",
    "- Remark on Data \n",
    "  - House price\n",
    "      - Established houses.\n",
    "      - Base of each index: 2011-12 = 100.\n",
    "      - Average four quarters for Financial Year\n",
    "  - Home loan interest rate"
   ]
  },
  {
   "cell_type": "code",
   "execution_count": 137,
   "metadata": {},
   "outputs": [],
   "source": [
    "import pandas as pd\n",
    "import re\n",
    "import matplotlib.pyplot as plt\n",
    "# import seaborn as sns\n",
    "import datetime"
   ]
  },
  {
   "cell_type": "markdown",
   "metadata": {},
   "source": [
    "# Data Cleansing and Transformation\n",
    "- Read Source as byte \n",
    "- Replace byte 'x96' with '-'\n",
    "- Replace 'n.a.' to ''\n",
    "- Only process data start with Financial year"
   ]
  },
  {
   "cell_type": "code",
   "execution_count": 99,
   "metadata": {},
   "outputs": [],
   "source": [
    "data_raw = '../data/raw/house-price-index-bris-syd-melb.csv'\n",
    "data_processed = '../data/processed/house-price-index-bris-syd-melb.csv'\n",
    "data_pattern = re.compile('^[0-9]{4}-[0-9]{2}')\n",
    "data_header = 'Financial year,Brisbane-Index,Brisbane-Annual Change,Sydney-Index,Sydney-Annual Change,Melbourne-Index,Melbourne-Annual Change\\n'\n",
    "with open(data_raw, 'rb') as f_raw:\n",
    "    with open(data_processed, 'w') as f_processed:\n",
    "        f_processed.write(data_header)\n",
    "        for each in f_raw:\n",
    "            line = each.decode(encoding='UTF-8', errors='backslashreplace').replace('\\\\x96', '-').replace('n.a.', '')\n",
    "            if re.match(data_pattern, line):\n",
    "                f_processed.write(line)"
   ]
  },
  {
   "cell_type": "code",
   "execution_count": 98,
   "metadata": {},
   "outputs": [],
   "source": [
    "house_prices_data = pd.read_csv(data_processed, index_col='Financial year')"
   ]
  },
  {
   "cell_type": "code",
   "execution_count": 103,
   "metadata": {},
   "outputs": [],
   "source": [
    "data_raw = '../data/raw/standard-variable-home-loan-interest-rates-australia.csv'\n",
    "home_loan_interest_rate = pd.read_csv(data_raw, index_col='MONTH-YEAR')"
   ]
  },
  {
   "cell_type": "markdown",
   "metadata": {},
   "source": [
    "# Data Description"
   ]
  },
  {
   "cell_type": "code",
   "execution_count": 82,
   "metadata": {},
   "outputs": [
    {
     "data": {
      "text/html": [
       "<div>\n",
       "<style scoped>\n",
       "    .dataframe tbody tr th:only-of-type {\n",
       "        vertical-align: middle;\n",
       "    }\n",
       "\n",
       "    .dataframe tbody tr th {\n",
       "        vertical-align: top;\n",
       "    }\n",
       "\n",
       "    .dataframe thead th {\n",
       "        text-align: right;\n",
       "    }\n",
       "</style>\n",
       "<table border=\"1\" class=\"dataframe\">\n",
       "  <thead>\n",
       "    <tr style=\"text-align: right;\">\n",
       "      <th></th>\n",
       "      <th>Brisbane-Index</th>\n",
       "      <th>Brisbane-Annual Change</th>\n",
       "      <th>Sydney-Index</th>\n",
       "      <th>Sydney-Annual Change</th>\n",
       "      <th>Melbourne-Index</th>\n",
       "      <th>Melbourne-Annual Change</th>\n",
       "    </tr>\n",
       "    <tr>\n",
       "      <th>Financial year</th>\n",
       "      <th></th>\n",
       "      <th></th>\n",
       "      <th></th>\n",
       "      <th></th>\n",
       "      <th></th>\n",
       "      <th></th>\n",
       "    </tr>\n",
       "  </thead>\n",
       "  <tbody>\n",
       "    <tr>\n",
       "      <th>2002-03</th>\n",
       "      <td>52.6</td>\n",
       "      <td>NaN</td>\n",
       "      <td>78.2</td>\n",
       "      <td>NaN</td>\n",
       "      <td>54.1</td>\n",
       "      <td>NaN</td>\n",
       "    </tr>\n",
       "    <tr>\n",
       "      <th>2003-04</th>\n",
       "      <td>69.7</td>\n",
       "      <td>32.5</td>\n",
       "      <td>87.5</td>\n",
       "      <td>11.9</td>\n",
       "      <td>60.1</td>\n",
       "      <td>11.2</td>\n",
       "    </tr>\n",
       "    <tr>\n",
       "      <th>2004-05</th>\n",
       "      <td>72.6</td>\n",
       "      <td>4.2</td>\n",
       "      <td>84.1</td>\n",
       "      <td>-3.9</td>\n",
       "      <td>61.2</td>\n",
       "      <td>1.8</td>\n",
       "    </tr>\n",
       "    <tr>\n",
       "      <th>2005-06</th>\n",
       "      <td>75.4</td>\n",
       "      <td>3.9</td>\n",
       "      <td>81.6</td>\n",
       "      <td>-3.0</td>\n",
       "      <td>63.9</td>\n",
       "      <td>4.4</td>\n",
       "    </tr>\n",
       "    <tr>\n",
       "      <th>2006-07</th>\n",
       "      <td>83.1</td>\n",
       "      <td>10.2</td>\n",
       "      <td>83.6</td>\n",
       "      <td>2.5</td>\n",
       "      <td>70.4</td>\n",
       "      <td>10.2</td>\n",
       "    </tr>\n",
       "    <tr>\n",
       "      <th>2007-08</th>\n",
       "      <td>98.8</td>\n",
       "      <td>18.9</td>\n",
       "      <td>89.1</td>\n",
       "      <td>6.6</td>\n",
       "      <td>84.1</td>\n",
       "      <td>19.5</td>\n",
       "    </tr>\n",
       "    <tr>\n",
       "      <th>2008-09</th>\n",
       "      <td>97.4</td>\n",
       "      <td>-1.4</td>\n",
       "      <td>85.8</td>\n",
       "      <td>-3.7</td>\n",
       "      <td>83.5</td>\n",
       "      <td>-0.7</td>\n",
       "    </tr>\n",
       "    <tr>\n",
       "      <th>2009-10</th>\n",
       "      <td>105.7</td>\n",
       "      <td>8.5</td>\n",
       "      <td>97.8</td>\n",
       "      <td>14.0</td>\n",
       "      <td>100.2</td>\n",
       "      <td>20.0</td>\n",
       "    </tr>\n",
       "    <tr>\n",
       "      <th>2010-11</th>\n",
       "      <td>104.6</td>\n",
       "      <td>-1.0</td>\n",
       "      <td>102.2</td>\n",
       "      <td>4.5</td>\n",
       "      <td>104.8</td>\n",
       "      <td>4.6</td>\n",
       "    </tr>\n",
       "    <tr>\n",
       "      <th>2011-12</th>\n",
       "      <td>100.0</td>\n",
       "      <td>-4.4</td>\n",
       "      <td>100.0</td>\n",
       "      <td>-2.2</td>\n",
       "      <td>100.0</td>\n",
       "      <td>-4.6</td>\n",
       "    </tr>\n",
       "    <tr>\n",
       "      <th>2012-13</th>\n",
       "      <td>101.8</td>\n",
       "      <td>1.8</td>\n",
       "      <td>104.4</td>\n",
       "      <td>4.4</td>\n",
       "      <td>100.5</td>\n",
       "      <td>0.5</td>\n",
       "    </tr>\n",
       "    <tr>\n",
       "      <th>2013-14</th>\n",
       "      <td>108.0</td>\n",
       "      <td>6.1</td>\n",
       "      <td>120.4</td>\n",
       "      <td>15.3</td>\n",
       "      <td>110.3</td>\n",
       "      <td>9.8</td>\n",
       "    </tr>\n",
       "    <tr>\n",
       "      <th>2014-15</th>\n",
       "      <td>113.2</td>\n",
       "      <td>4.8</td>\n",
       "      <td>140.0</td>\n",
       "      <td>16.3</td>\n",
       "      <td>118.1</td>\n",
       "      <td>7.1</td>\n",
       "    </tr>\n",
       "    <tr>\n",
       "      <th>2015-16</th>\n",
       "      <td>118.4</td>\n",
       "      <td>4.6</td>\n",
       "      <td>157.3</td>\n",
       "      <td>12.4</td>\n",
       "      <td>131.2</td>\n",
       "      <td>11.1</td>\n",
       "    </tr>\n",
       "    <tr>\n",
       "      <th>2016-17</th>\n",
       "      <td>123.2</td>\n",
       "      <td>4.1</td>\n",
       "      <td>175.4</td>\n",
       "      <td>11.5</td>\n",
       "      <td>148.9</td>\n",
       "      <td>13.5</td>\n",
       "    </tr>\n",
       "    <tr>\n",
       "      <th>2017-18</th>\n",
       "      <td>126.6</td>\n",
       "      <td>2.8</td>\n",
       "      <td>178.8</td>\n",
       "      <td>1.9</td>\n",
       "      <td>162.1</td>\n",
       "      <td>8.9</td>\n",
       "    </tr>\n",
       "  </tbody>\n",
       "</table>\n",
       "</div>"
      ],
      "text/plain": [
       "                Brisbane-Index  Brisbane-Annual Change  Sydney-Index  \\\n",
       "Financial year                                                         \n",
       "2002-03                   52.6                     NaN          78.2   \n",
       "2003-04                   69.7                    32.5          87.5   \n",
       "2004-05                   72.6                     4.2          84.1   \n",
       "2005-06                   75.4                     3.9          81.6   \n",
       "2006-07                   83.1                    10.2          83.6   \n",
       "2007-08                   98.8                    18.9          89.1   \n",
       "2008-09                   97.4                    -1.4          85.8   \n",
       "2009-10                  105.7                     8.5          97.8   \n",
       "2010-11                  104.6                    -1.0         102.2   \n",
       "2011-12                  100.0                    -4.4         100.0   \n",
       "2012-13                  101.8                     1.8         104.4   \n",
       "2013-14                  108.0                     6.1         120.4   \n",
       "2014-15                  113.2                     4.8         140.0   \n",
       "2015-16                  118.4                     4.6         157.3   \n",
       "2016-17                  123.2                     4.1         175.4   \n",
       "2017-18                  126.6                     2.8         178.8   \n",
       "\n",
       "                Sydney-Annual Change  Melbourne-Index  Melbourne-Annual Change  \n",
       "Financial year                                                                  \n",
       "2002-03                          NaN             54.1                      NaN  \n",
       "2003-04                         11.9             60.1                     11.2  \n",
       "2004-05                         -3.9             61.2                      1.8  \n",
       "2005-06                         -3.0             63.9                      4.4  \n",
       "2006-07                          2.5             70.4                     10.2  \n",
       "2007-08                          6.6             84.1                     19.5  \n",
       "2008-09                         -3.7             83.5                     -0.7  \n",
       "2009-10                         14.0            100.2                     20.0  \n",
       "2010-11                          4.5            104.8                      4.6  \n",
       "2011-12                         -2.2            100.0                     -4.6  \n",
       "2012-13                          4.4            100.5                      0.5  \n",
       "2013-14                         15.3            110.3                      9.8  \n",
       "2014-15                         16.3            118.1                      7.1  \n",
       "2015-16                         12.4            131.2                     11.1  \n",
       "2016-17                         11.5            148.9                     13.5  \n",
       "2017-18                          1.9            162.1                      8.9  "
      ]
     },
     "execution_count": 82,
     "metadata": {},
     "output_type": "execute_result"
    }
   ],
   "source": [
    "house_prices_data"
   ]
  },
  {
   "cell_type": "code",
   "execution_count": 151,
   "metadata": {},
   "outputs": [],
   "source": [
    "# def financial_year(date):\n",
    "#     if date.month >= 7:\n",
    "#         year = date.year\n",
    "#     else:\n",
    "#         year = date.year - 1\n",
    "        \n",
    "#     return str(year) + '-' + str(year + 1)[2:4]\n",
    "\n",
    "# home_loan_interest_rate['Financial Year'] = [financial_year(datetime.date(int(date[0:4]), int(date[5:7]), int(date[9:11]))) for date in home_loan_interest_rate.index.values if date != 'MONTH-YEAR']\n"
   ]
  },
  {
   "cell_type": "code",
   "execution_count": 149,
   "metadata": {},
   "outputs": [
    {
     "data": {
      "text/plain": [
       "'1922-23'"
      ]
     },
     "execution_count": 149,
     "metadata": {},
     "output_type": "execute_result"
    }
   ],
   "source": [
    "financial_year(datetime.date(1922, 10, 12))"
   ]
  },
  {
   "cell_type": "markdown",
   "metadata": {},
   "source": [
    "# Visualization"
   ]
  },
  {
   "cell_type": "code",
   "execution_count": 96,
   "metadata": {},
   "outputs": [
    {
     "data": {
      "text/plain": [
       "<matplotlib.axes._subplots.AxesSubplot at 0x7fb2a5882d68>"
      ]
     },
     "execution_count": 96,
     "metadata": {},
     "output_type": "execute_result"
    },
    {
     "data": {
      "image/png": "[encoded data removed]",
      "text/plain": [
       "<Figure size 432x288 with 1 Axes>"
      ]
     },
     "metadata": {},
     "output_type": "display_data"
    }
   ],
   "source": [
    "house_prices_data[['Brisbane-Index', 'Sydney-Index', 'Melbourne-Index']].plot(kind='line', rot=45, title='House Price Index: Brisbane, Sydney and Melbourne, 2002-03 to 2017-18') "
   ]
  },
  {
   "cell_type": "markdown",
   "metadata": {},
   "source": [
    "# Summary\n",
    "- All three cities housing prices dropped in Financial year 2008-2009 and 2011-12.\n",
    "  - 2008-09 is due to the Global Financial Crisis\n",
    "  - 2011-12 is likely due to the RBA’s November and December rate cuts\n"
   ]
  },
  {
   "cell_type": "code",
   "execution_count": null,
   "metadata": {},
   "outputs": [],
   "source": []
  }
 ],
 "metadata": {
  "kernelspec": {
   "display_name": "Python 3",
   "language": "python",
   "name": "python3"
  },
  "language_info": {
   "codemirror_mode": {
    "name": "ipython",
    "version": 3
   },
   "file_extension": ".py",
   "mimetype": "text/x-python",
   "name": "python",
   "nbconvert_exporter": "python",
   "pygments_lexer": "ipython3",
   "version": "3.6.6"
  }
 },
 "nbformat": 4,
 "nbformat_minor": 2
}
